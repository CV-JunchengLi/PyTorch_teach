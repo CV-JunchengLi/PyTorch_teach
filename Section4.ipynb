{
 "cells": [
  {
   "cell_type": "markdown",
   "metadata": {},
   "source": [
    "# PyTorch_Learningn (MIVRC)"
   ]
  },
  {
   "cell_type": "markdown",
   "metadata": {},
   "source": [
    "![](https://ws1.sinaimg.cn/large/abaebc48ly1fqgrsuu355j209x02wjr7.jpg)"
   ]
  },
  {
   "cell_type": "markdown",
   "metadata": {},
   "source": [
    "## 课程4：模型构建-线性回归"
   ]
  },
  {
   "cell_type": "markdown",
   "metadata": {},
   "source": [
    "## 代码模板风格（个人）\n",
    "\n",
    "1、导入需要的包\n",
    "\n",
    "2、定义超参\n",
    "\n",
    "3、加载数据集\n",
    "\n",
    "4、构建网络模型\n",
    "\n",
    "5、定义损失函数\n",
    "\n",
    "6、定义优化器\n",
    "\n",
    "7、训练（前向及反向传播）\n",
    "\n",
    "8、保存网络模型及参数"
   ]
  },
  {
   "cell_type": "markdown",
   "metadata": {},
   "source": [
    "线性回归及逻辑回归知识点介绍：https://blog.csdn.net/han_xiaoyang/article/details/49123419"
   ]
  },
  {
   "cell_type": "markdown",
   "metadata": {},
   "source": [
    "### 线性回归-代码示例"
   ]
  },
  {
   "cell_type": "code",
   "execution_count": 1,
   "metadata": {
    "collapsed": true
   },
   "outputs": [],
   "source": [
    "# 导入需要的库/包\n",
    "import numpy as np\n",
    "import torch\n",
    "import torch.nn as nn\n",
    "from torch.autograd import Variable"
   ]
  },
  {
   "cell_type": "code",
   "execution_count": 2,
   "metadata": {
    "collapsed": true
   },
   "outputs": [],
   "source": [
    "#定义超参数\n",
    "# input_size/output_size:输入输出的维度\n",
    "# num_epoch:训练次数\n",
    "# learning_rate:学习率\n",
    "input_size = 1\n",
    "output_size = 1\n",
    "num_epoch = 60\n",
    "learing_rate = 0.001"
   ]
  },
  {
   "cell_type": "code",
   "execution_count": 3,
   "metadata": {
    "collapsed": true
   },
   "outputs": [],
   "source": [
    "#构建简单数据集\n",
    "x_train = np.array([[3.3], [4.4], [5.5], [6.71], [6.93], [4.168], [9.779], [6.182], [7.59], [2.167], [7.042], [10.791], [5.313], [7.997], [3.1]], dtype=np.float32)\n",
    "\n",
    "y_train = np.array([[1.7], [2.76], [2.09], [3.19], [1.694], [1.573], [3.366], [2.596], [2.53], [1.221], [2.827], [3.465], [1.65], [2.904], [1.3]], dtype=np.float32)"
   ]
  },
  {
   "cell_type": "code",
   "execution_count": 4,
   "metadata": {
    "collapsed": true
   },
   "outputs": [],
   "source": [
    "#构建线性模型\n",
    "class LinearRegression(nn.Module):\n",
    "    def __init__(self, input_size, output_size):\n",
    "        super(LinearRegression, self).__init__()\n",
    "        self.linear = nn.Linear(input_size, output_size,)\n",
    "        \n",
    "        \n",
    "    def forward(self, x):\n",
    "        out = self.linear(x)\n",
    "        return out\n",
    "    \n",
    "#加载构建好的网络模型\n",
    "model = LinearRegression(input_size, output_size)"
   ]
  },
  {
   "cell_type": "markdown",
   "metadata": {},
   "source": [
    "![](https://ws1.sinaimg.cn/large/abaebc48ly1fqivptvabrj20p80iywga.jpg)"
   ]
  },
  {
   "cell_type": "code",
   "execution_count": 5,
   "metadata": {
    "collapsed": true
   },
   "outputs": [],
   "source": [
    "#定义损失函数\n",
    "criterion = nn.MSELoss()\n",
    "\n",
    "#定义优化器\n",
    "optimizer = torch.optim.SGD(model.parameters(), lr=learing_rate)"
   ]
  },
  {
   "cell_type": "code",
   "execution_count": 6,
   "metadata": {},
   "outputs": [
    {
     "name": "stdout",
     "output_type": "stream",
     "text": [
      "Epoch [5/60], Loss: 13.8991\n",
      "Epoch [10/60], Loss: 5.7698\n",
      "Epoch [15/60], Loss: 2.4764\n",
      "Epoch [20/60], Loss: 1.1421\n",
      "Epoch [25/60], Loss: 0.6014\n",
      "Epoch [30/60], Loss: 0.3823\n",
      "Epoch [35/60], Loss: 0.2934\n",
      "Epoch [40/60], Loss: 0.2573\n",
      "Epoch [45/60], Loss: 0.2426\n",
      "Epoch [50/60], Loss: 0.2365\n",
      "Epoch [55/60], Loss: 0.2340\n",
      "Epoch [60/60], Loss: 0.2328\n"
     ]
    }
   ],
   "source": [
    "for epoch in range(num_epoch):\n",
    "    #将input和label转为Variable\n",
    "    inputs = Variable(torch.from_numpy(x_train))\n",
    "    label = Variable(torch.from_numpy(y_train))\n",
    "    \n",
    "    #调用模型进行前向传播\n",
    "    outputs = model(inputs)\n",
    "    #调用损失函数，计算输出值和真实值之间的差\n",
    "    loss = criterion(outputs, label)\n",
    "    \n",
    "    #启用优化器并将梯度缓存清空，再进行反向传播\n",
    "    optimizer.zero_grad()\n",
    "    loss.backward()\n",
    "    \n",
    "    #调用优化函数开始迭代优化\n",
    "    optimizer.step()\n",
    "    \n",
    "    if (epoch+1) % 5 == 0:\n",
    "        print ('Epoch [%d/%d], Loss: %.4f' %(epoch+1, num_epoch, loss.data[0]))"
   ]
  },
  {
   "cell_type": "code",
   "execution_count": 7,
   "metadata": {
    "collapsed": true
   },
   "outputs": [],
   "source": [
    "#保存网络\n",
    "torch.save(model.state_dict(), 'Linear.pkl')"
   ]
  },
  {
   "cell_type": "code",
   "execution_count": 8,
   "metadata": {},
   "outputs": [
    {
     "data": {
      "image/png": "[encoded data removed]",
      "text/plain": [
       "<matplotlib.figure.Figure at 0x7fb2470f8710>"
      ]
     },
     "metadata": {},
     "output_type": "display_data"
    }
   ],
   "source": [
    "#可视化结果\n",
    "\n",
    "import matplotlib.pyplot as plt\n",
    "predicted = model(Variable(torch.from_numpy(x_train))).data.numpy()\n",
    "plt.plot(x_train, y_train, 'ro', label=\"Original date\")\n",
    "plt.plot(x_train, predicted, label=\"Fitted line\")\n",
    "plt.legend()\n",
    "plt.show()"
   ]
  }
 ],
 "metadata": {
  "kernelspec": {
   "display_name": "Python [default]",
   "language": "python",
   "name": "python3"
  },
  "language_info": {
   "codemirror_mode": {
    "name": "ipython",
    "version": 3
   },
   "file_extension": ".py",
   "mimetype": "text/x-python",
   "name": "python",
   "nbconvert_exporter": "python",
   "pygments_lexer": "ipython3",
   "version": "3.5.3"
  }
 },
 "nbformat": 4,
 "nbformat_minor": 2
}
