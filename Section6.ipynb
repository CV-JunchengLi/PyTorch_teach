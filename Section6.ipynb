{
 "cells": [
  {
   "cell_type": "markdown",
   "metadata": {},
   "source": [
    "# PyTorch_Learningn (MIVRC)"
   ]
  },
  {
   "cell_type": "markdown",
   "metadata": {},
   "source": [
    "![](https://ws1.sinaimg.cn/large/abaebc48ly1fqgrsuu355j209x02wjr7.jpg)"
   ]
  },
  {
   "cell_type": "markdown",
   "metadata": {},
   "source": [
    "## 课程6：卷积神经网络"
   ]
  },
  {
   "cell_type": "markdown",
   "metadata": {},
   "source": [
    "### 代码示例：构建一个3层的卷积神经网络对MNIST进行分类\n",
    "包含2个卷积层和一个全连接层"
   ]
  },
  {
   "cell_type": "code",
   "execution_count": 1,
   "metadata": {
    "collapsed": true
   },
   "outputs": [],
   "source": [
    "#导入所需的库/包\n",
    "import torch\n",
    "import torch.nn as nn\n",
    "import torchvision.datasets as datasets\n",
    "import torchvision.transforms as transforms\n",
    "from torch.autograd import Variable"
   ]
  },
  {
   "cell_type": "code",
   "execution_count": 2,
   "metadata": {
    "collapsed": true
   },
   "outputs": [],
   "source": [
    "#定义超参\n",
    "num_epochs = 10\n",
    "batch_size = 100\n",
    "learning_rate = 0.001"
   ]
  },
  {
   "cell_type": "code",
   "execution_count": 3,
   "metadata": {
    "collapsed": true
   },
   "outputs": [],
   "source": [
    "#下载 MNIST 数据集\n",
    "train_dataset = datasets.MNIST(root='./MNIST/', train=True, transform=transforms.ToTensor(), download=True)\n",
    "test_dataset = datasets.MNIST(root = './MNIST/', train=False, transform=transforms.ToTensor(), download=True)"
   ]
  },
  {
   "cell_type": "code",
   "execution_count": 4,
   "metadata": {
    "collapsed": true
   },
   "outputs": [],
   "source": [
    "#加载数据集\n",
    "train_loader = torch.utils.data.DataLoader(dataset=train_dataset, batch_size=batch_size, shuffle=True)\n",
    "test_loader = torch.utils.data.DataLoader(dataset=test_dataset, batch_size=batch_size, shuffle=False)"
   ]
  },
  {
   "cell_type": "markdown",
   "metadata": {},
   "source": [
    "![](https://ws1.sinaimg.cn/large/abaebc48ly1fqi1ktqfe0j20ne06fjs1.jpg)"
   ]
  },
  {
   "cell_type": "code",
   "execution_count": 5,
   "metadata": {
    "collapsed": true
   },
   "outputs": [],
   "source": [
    "#构建CNN网络模型\n",
    "#写法一：\n",
    "\n",
    "#torch.nn.Conv2d(in_channels, out_channels, kernel_size, stride=1, padding=0, dilation=1, groups=1, bias=True)\n",
    "class CNN(nn.Module):\n",
    "    def __init__(self):\n",
    "        super(CNN, self).__init__()\n",
    "        self.layer1 = nn.Sequential(\n",
    "            nn.Conv2d(in_channels=1, out_channels=16, kernel_size=5, padding=2),\n",
    "            nn.BatchNorm2d(16),\n",
    "            nn.ReLU(),\n",
    "            nn.MaxPool2d(2)\n",
    "        )\n",
    "        self.layer2 = nn.Sequential(\n",
    "            nn.Conv2d(in_channels=16, out_channels=32, kernel_size=5, padding=2),\n",
    "            nn.BatchNorm2d(32),\n",
    "            nn.ReLU(),\n",
    "            nn.MaxPool2d(2)\n",
    "        )\n",
    "        self.fc = nn.Linear(7*7*32, 10)\n",
    "        \n",
    "    def forward(self, x):\n",
    "        out = self.layer1(x)\n",
    "        out = self.layer2(out)\n",
    "        # 输出out是包含batchsize维度为4的tensor，即(batchsize，channels，x，y)\n",
    "        # out.size(0)指batchsize的值\n",
    "        # out = out.view(x.size(0), -1)简化 x = out.view(batchsize, -1)\n",
    "        # view()函数的功能根reshape类似，用来转换size大小。out = out.view(batchsize, -1)中batchsize指转换后有几行，而-1指在不告诉函数有多少列的情况下，根据原tensor数据和batchsize自动分配列数。\n",
    "        out = out.view(out.size(0), -1)\n",
    "        out = self.fc(out)\n",
    "        return out"
   ]
  },
  {
   "cell_type": "code",
   "execution_count": 6,
   "metadata": {},
   "outputs": [
    {
     "data": {
      "text/plain": [
       "CNN (\n",
       "  (layer1): Sequential (\n",
       "    (0): Conv2d(1, 16, kernel_size=(5, 5), stride=(1, 1), padding=(2, 2))\n",
       "    (1): BatchNorm2d(16, eps=1e-05, momentum=0.1, affine=True)\n",
       "    (2): ReLU ()\n",
       "    (3): MaxPool2d (size=(2, 2), stride=(2, 2), dilation=(1, 1))\n",
       "  )\n",
       "  (layer2): Sequential (\n",
       "    (0): Conv2d(16, 32, kernel_size=(5, 5), stride=(1, 1), padding=(2, 2))\n",
       "    (1): BatchNorm2d(32, eps=1e-05, momentum=0.1, affine=True)\n",
       "    (2): ReLU ()\n",
       "    (3): MaxPool2d (size=(2, 2), stride=(2, 2), dilation=(1, 1))\n",
       "  )\n",
       "  (fc): Linear (1568 -> 10)\n",
       ")"
      ]
     },
     "execution_count": 6,
     "metadata": {},
     "output_type": "execute_result"
    }
   ],
   "source": [
    "# 加载构建好的网络模型并调用GPU加速\n",
    "cnn = CNN()\n",
    "cnn.cuda()"
   ]
  },
  {
   "cell_type": "code",
   "execution_count": 7,
   "metadata": {
    "collapsed": true
   },
   "outputs": [],
   "source": [
    "#构建CNN网络模型\n",
    "#写法二：\n",
    "\n",
    "class CNN_new(nn.Module):\n",
    "    def __init__(self):\n",
    "        super(CNN_new, self).__init__()\n",
    "        self.relu = nn.ReLU()\n",
    "        self.Pool = nn.MaxPool2d(2)\n",
    "        self.layer1 = nn.Conv2d(in_channels=1, out_channels=16, kernel_size=5, padding=2)\n",
    "        self.layer2 = nn.Conv2d(in_channels=16, out_channels=32, kernel_size=5, padding=2)\n",
    "        self.fc = nn.Linear(7*7*32, 10)\n",
    "        self.BatchNorm1 = nn.BatchNorm2d(16)\n",
    "        self.BatchNorm2 = nn.BatchNorm2d(32)   \n",
    "        \n",
    "    def forward(self, x):\n",
    "        out = self.Pool(self.relu(self.BatchNorm1(self.layer1(x))))\n",
    "        out = self.Pool(self.relu(self.BatchNorm2(self.layer2(out))))\n",
    "        out = out.view(out.size(0), -1)\n",
    "        out = self.fc(out)\n",
    "        return out"
   ]
  },
  {
   "cell_type": "code",
   "execution_count": 8,
   "metadata": {},
   "outputs": [
    {
     "data": {
      "text/plain": [
       "CNN_new (\n",
       "  (relu): ReLU ()\n",
       "  (Pool): MaxPool2d (size=(2, 2), stride=(2, 2), dilation=(1, 1))\n",
       "  (layer1): Conv2d(1, 16, kernel_size=(5, 5), stride=(1, 1), padding=(2, 2))\n",
       "  (layer2): Conv2d(16, 32, kernel_size=(5, 5), stride=(1, 1), padding=(2, 2))\n",
       "  (fc): Linear (1568 -> 10)\n",
       "  (BatchNorm1): BatchNorm2d(16, eps=1e-05, momentum=0.1, affine=True)\n",
       "  (BatchNorm2): BatchNorm2d(32, eps=1e-05, momentum=0.1, affine=True)\n",
       ")"
      ]
     },
     "execution_count": 8,
     "metadata": {},
     "output_type": "execute_result"
    }
   ],
   "source": [
    "# 加载构建好的网络模型并调用GPU加速\n",
    "cnn_new = CNN_new()\n",
    "cnn_new.cuda()"
   ]
  },
  {
   "cell_type": "code",
   "execution_count": 9,
   "metadata": {
    "collapsed": true
   },
   "outputs": [],
   "source": [
    "#定义损失函数\n",
    "criterion = nn.CrossEntropyLoss()\n",
    "#定义优化器\n",
    "optimizer = torch.optim.Adam(cnn_new.parameters(), lr=learning_rate)"
   ]
  },
  {
   "cell_type": "code",
   "execution_count": 10,
   "metadata": {},
   "outputs": [
    {
     "name": "stdout",
     "output_type": "stream",
     "text": [
      "Epoch [1/10], Iter [100/600] Loss: 0.1965\n",
      "Epoch [1/10], Iter [200/600] Loss: 0.1001\n",
      "Epoch [1/10], Iter [300/600] Loss: 0.0920\n",
      "Epoch [1/10], Iter [400/600] Loss: 0.1218\n",
      "Epoch [1/10], Iter [500/600] Loss: 0.1498\n",
      "Epoch [1/10], Iter [600/600] Loss: 0.0261\n",
      "Epoch [2/10], Iter [100/600] Loss: 0.0855\n",
      "Epoch [2/10], Iter [200/600] Loss: 0.0914\n",
      "Epoch [2/10], Iter [300/600] Loss: 0.0186\n",
      "Epoch [2/10], Iter [400/600] Loss: 0.0033\n",
      "Epoch [2/10], Iter [500/600] Loss: 0.0096\n",
      "Epoch [2/10], Iter [600/600] Loss: 0.0173\n",
      "Epoch [3/10], Iter [100/600] Loss: 0.0493\n",
      "Epoch [3/10], Iter [200/600] Loss: 0.0540\n",
      "Epoch [3/10], Iter [300/600] Loss: 0.0336\n",
      "Epoch [3/10], Iter [400/600] Loss: 0.0253\n",
      "Epoch [3/10], Iter [500/600] Loss: 0.0648\n",
      "Epoch [3/10], Iter [600/600] Loss: 0.0262\n",
      "Epoch [4/10], Iter [100/600] Loss: 0.0082\n",
      "Epoch [4/10], Iter [200/600] Loss: 0.0513\n",
      "Epoch [4/10], Iter [300/600] Loss: 0.0227\n",
      "Epoch [4/10], Iter [400/600] Loss: 0.0034\n",
      "Epoch [4/10], Iter [500/600] Loss: 0.0389\n",
      "Epoch [4/10], Iter [600/600] Loss: 0.0596\n",
      "Epoch [5/10], Iter [100/600] Loss: 0.0022\n",
      "Epoch [5/10], Iter [200/600] Loss: 0.0143\n",
      "Epoch [5/10], Iter [300/600] Loss: 0.0626\n",
      "Epoch [5/10], Iter [400/600] Loss: 0.0031\n",
      "Epoch [5/10], Iter [500/600] Loss: 0.0031\n",
      "Epoch [5/10], Iter [600/600] Loss: 0.0194\n",
      "Epoch [6/10], Iter [100/600] Loss: 0.0132\n",
      "Epoch [6/10], Iter [200/600] Loss: 0.0295\n",
      "Epoch [6/10], Iter [300/600] Loss: 0.0285\n",
      "Epoch [6/10], Iter [400/600] Loss: 0.0207\n",
      "Epoch [6/10], Iter [500/600] Loss: 0.0096\n",
      "Epoch [6/10], Iter [600/600] Loss: 0.0133\n",
      "Epoch [7/10], Iter [100/600] Loss: 0.0146\n",
      "Epoch [7/10], Iter [200/600] Loss: 0.0307\n",
      "Epoch [7/10], Iter [300/600] Loss: 0.0462\n",
      "Epoch [7/10], Iter [400/600] Loss: 0.0052\n",
      "Epoch [7/10], Iter [500/600] Loss: 0.0061\n",
      "Epoch [7/10], Iter [600/600] Loss: 0.0405\n",
      "Epoch [8/10], Iter [100/600] Loss: 0.0284\n",
      "Epoch [8/10], Iter [200/600] Loss: 0.0114\n",
      "Epoch [8/10], Iter [300/600] Loss: 0.0057\n",
      "Epoch [8/10], Iter [400/600] Loss: 0.0071\n",
      "Epoch [8/10], Iter [500/600] Loss: 0.0052\n",
      "Epoch [8/10], Iter [600/600] Loss: 0.0050\n",
      "Epoch [9/10], Iter [100/600] Loss: 0.0038\n",
      "Epoch [9/10], Iter [200/600] Loss: 0.0096\n",
      "Epoch [9/10], Iter [300/600] Loss: 0.0009\n",
      "Epoch [9/10], Iter [400/600] Loss: 0.0024\n",
      "Epoch [9/10], Iter [500/600] Loss: 0.0023\n",
      "Epoch [9/10], Iter [600/600] Loss: 0.0037\n",
      "Epoch [10/10], Iter [100/600] Loss: 0.0109\n",
      "Epoch [10/10], Iter [200/600] Loss: 0.0012\n",
      "Epoch [10/10], Iter [300/600] Loss: 0.0028\n",
      "Epoch [10/10], Iter [400/600] Loss: 0.0075\n",
      "Epoch [10/10], Iter [500/600] Loss: 0.0022\n",
      "Epoch [10/10], Iter [600/600] Loss: 0.0012\n"
     ]
    }
   ],
   "source": [
    "#开始训练网络\n",
    "for epoch in range(num_epochs):\n",
    "    for i, (images, labels) in enumerate(train_loader):\n",
    "        images = Variable(images).cuda()\n",
    "        labels = Variable(labels).cuda()\n",
    "        \n",
    "        #调用模型进行前向传播\n",
    "        outputs = cnn_new(images)\n",
    "        \n",
    "        #调用损失函数计算输出结果与真实值的差\n",
    "        loss = criterion(outputs, labels)\n",
    "        \n",
    "        #启用优化器并将梯度缓存清空，再进行反向传播\n",
    "        optimizer.zero_grad()\n",
    "        loss.backward()\n",
    "        \n",
    "        #调用优化函数开始迭代优化\n",
    "        optimizer.step()\n",
    "        \n",
    "        if (i+1) % 100 == 0:\n",
    "            print('Epoch [%d/%d], Iter [%d/%d] Loss: %.4f' % (epoch+1, num_epochs, i+1, len(train_dataset)//batch_size, loss.data[0]))"
   ]
  },
  {
   "cell_type": "code",
   "execution_count": 13,
   "metadata": {},
   "outputs": [
    {
     "name": "stdout",
     "output_type": "stream",
     "text": [
      "Test Accuracy of the model on the 10000 test images: 99 %\n"
     ]
    }
   ],
   "source": [
    "#测试网络测试\n",
    "cnn_new.eval()  # Change model to 'eval' mode (BN uses moving mean/var).\n",
    "correct = 0\n",
    "total = 0\n",
    "for images, labels in test_loader:\n",
    "    images = Variable(images).cuda()\n",
    "    outputs = cnn_new(images)\n",
    "    _, predicted = torch.max(outputs.data, 1)\n",
    "    total += labels.size(0)\n",
    "    correct += (predicted.cpu() == labels).sum()\n",
    "\n",
    "print('Test Accuracy of the model on the 10000 test images: %d %%' % (100 * correct / total))"
   ]
  },
  {
   "cell_type": "code",
   "execution_count": 14,
   "metadata": {
    "collapsed": true
   },
   "outputs": [],
   "source": [
    "#保存网络模型及参数\n",
    "torch.save(cnn.state_dict(), 'cnn.pkl')"
   ]
  },
  {
   "cell_type": "code",
   "execution_count": null,
   "metadata": {
    "collapsed": true
   },
   "outputs": [],
   "source": []
  }
 ],
 "metadata": {
  "kernelspec": {
   "display_name": "Python [default]",
   "language": "python",
   "name": "python3"
  },
  "language_info": {
   "codemirror_mode": {
    "name": "ipython",
    "version": 3
   },
   "file_extension": ".py",
   "mimetype": "text/x-python",
   "name": "python",
   "nbconvert_exporter": "python",
   "pygments_lexer": "ipython3",
   "version": "3.5.3"
  }
 },
 "nbformat": 4,
 "nbformat_minor": 2
}
