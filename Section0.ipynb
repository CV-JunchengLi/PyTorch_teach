{
 "cells": [
  {
   "cell_type": "markdown",
   "metadata": {},
   "source": [
    "# PyTorch_Learningn (MIVRC)"
   ]
  },
  {
   "cell_type": "markdown",
   "metadata": {},
   "source": [
    "### 课程大纲\n",
    "基础课：\n",
    "\n",
    "Section0：PyTorch的安装\n",
    "\n",
    "Section1: PyTorch的基石-Tensor张量\n",
    "\n",
    "Section2: Autograd自动微分\n",
    "\n",
    "Section3: 数据加载\n",
    "\n",
    "\n",
    "案例课：\n",
    "\n",
    "Section4：线性回归模型构建\n",
    "\n",
    "Section5：前馈神经网络构建     -以MNIST分类为例\n",
    "\n",
    "Section6：卷积神经网络构建     -以MNIST分类为例\n",
    "\n",
    "Section7：残差卷积神经网络构建 -以CIFAR10分类为例\n",
    "\n",
    "Section8：卷积生成对抗网络构建 -以CIFAR10生成为例\n",
    "\n",
    "\n",
    "项目课：\n",
    "\n",
    "Section9: 基于卷积神经网络的图像超分辨率模型构建  -以SRCNN、FSRCNN、ESPCN为例"
   ]
  },
  {
   "cell_type": "markdown",
   "metadata": {},
   "source": [
    "![](https://ws1.sinaimg.cn/large/abaebc48ly1fqgrsuu355j209x02wjr7.jpg)\n",
    "\n",
    "PyTorch 是一个 Python 优先的深度学习框架，也是使用 GPU 和 CPU 优化的深度学习张量库，能够在强大的 GPU 加速基础上实现张量和动态神经网络。其前身是 Torch，主要语言接口为 Lua。PyTorch 和 TensorFlow、MXNet、Caffe2 一样，是非常底层的框架；也正如 TensorFlow 是谷歌官方框架，MXNet 是亚马逊官方框架，背后支持 PyTorch 的则是 Facebook。\n",
    "\n",
    "同时，PyTorch 还是一个 Python 软件包\n",
    "\n",
    "通常，人们使用 PyTorch 的原因通常有二：\n",
    "\n",
    "1、作为 numpy 的替代，以便使用强大的 GPU；\n",
    "\n",
    "2、将其作为一个能提供最大的灵活性和速度的深度学习研究平台。\n",
    "\n",
    "PyTorch官网：http://pytorch.org\n",
    "\n",
    "PyTorch中文网：http://www.pytorchtutorial.com/\n",
    "\n",
    "PyTorch API接口：http://pytorch.org/docs/stable/torch.html"
   ]
  },
  {
   "cell_type": "markdown",
   "metadata": {},
   "source": [
    "## PyTorch安装"
   ]
  },
  {
   "cell_type": "markdown",
   "metadata": {},
   "source": [
    "Pytorch目前支持的平台有Linux和OSX，在Pytorch官网上每种平台提供了conda、pip、source三种安装方式，同时也可以根据有无GPU进行cuda安装。\n",
    "\n",
    "这里以conda安装为例进行介绍."
   ]
  },
  {
   "cell_type": "markdown",
   "metadata": {},
   "source": [
    "### 1. Anaconda安装配置 "
   ]
  },
  {
   "cell_type": "markdown",
   "metadata": {},
   "source": [
    "![](https://ws1.sinaimg.cn/large/abaebc48ly1fqgrpu8fr5j208202r749.jpg)\n",
    "\n",
    "Anaconda 是一个开源的Python发行版本，其包含了conda、Python等180多个科学包及其依赖项，因为包含了大量的科学包。\n",
    "\n",
    "自带python环境，可以同时创建多个不同的环境。\n",
    "\n",
    "Anaconda官网：https://www.anaconda.com/download/"
   ]
  },
  {
   "cell_type": "markdown",
   "metadata": {},
   "source": [
    "### 2、 PyTorch安装配置 "
   ]
  },
  {
   "cell_type": "markdown",
   "metadata": {},
   "source": [
    "在官网上，选择自己需要安装的PyTorch版本\n",
    "\n",
    "这里选择 linux操作系统， conda安装方式， python3.5， cuda8\n",
    "![](https://ws1.sinaimg.cn/large/abaebc48ly1fqgrvqh0xtj20y40ch3zt.jpg)\n",
    "\n",
    "选择后要安装的版本后，下面会生成一条命令语句，在linux下打开一个命令窗口，把这条命令语言复制黏贴进去，回车运行即可。"
   ]
  },
  {
   "cell_type": "markdown",
   "metadata": {},
   "source": [
    "### 3、 测试 "
   ]
  },
  {
   "cell_type": "markdown",
   "metadata": {},
   "source": [
    "![](https://ws1.sinaimg.cn/large/abaebc48ly1fqgs7x9omjj20ko05oacn.jpg)\n",
    "\n",
    "进入python环境，导入torch包，如果没有报错，则说明安装成功。"
   ]
  },
  {
   "cell_type": "markdown",
   "metadata": {},
   "source": [
    "![](https://ws1.sinaimg.cn/large/abaebc48ly1fqivqfth8ij20ab0jvjrv.jpg)"
   ]
  },
  {
   "cell_type": "code",
   "execution_count": null,
   "metadata": {},
   "outputs": [],
   "source": []
  }
 ],
 "metadata": {
  "kernelspec": {
   "display_name": "Python 3",
   "language": "python",
   "name": "python3"
  },
  "language_info": {
   "codemirror_mode": {
    "name": "ipython",
    "version": 3
   },
   "file_extension": ".py",
   "mimetype": "text/x-python",
   "name": "python",
   "nbconvert_exporter": "python",
   "pygments_lexer": "ipython3",
   "version": "3.6.2"
  }
 },
 "nbformat": 4,
 "nbformat_minor": 2
}
