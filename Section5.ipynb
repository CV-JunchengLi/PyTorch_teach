{
 "cells": [
  {
   "cell_type": "markdown",
   "metadata": {},
   "source": [
    "# PyTorch_Learningn (MIVRC)"
   ]
  },
  {
   "cell_type": "markdown",
   "metadata": {},
   "source": [
    "![](https://ws1.sinaimg.cn/large/abaebc48ly1fqgrsuu355j209x02wjr7.jpg)"
   ]
  },
  {
   "cell_type": "markdown",
   "metadata": {},
   "source": [
    "## 课程5：前馈神经网络"
   ]
  },
  {
   "cell_type": "markdown",
   "metadata": {},
   "source": [
    "### 代码示例："
   ]
  },
  {
   "cell_type": "code",
   "execution_count": 1,
   "metadata": {
    "collapsed": true
   },
   "outputs": [],
   "source": [
    "#导入所需的库/包\n",
    "import torch\n",
    "import torch.nn as nn\n",
    "import torchvision.datasets as datasets\n",
    "import torchvision.transforms as transforms\n",
    "from torch.autograd import Variable"
   ]
  },
  {
   "cell_type": "code",
   "execution_count": 2,
   "metadata": {
    "collapsed": true
   },
   "outputs": [],
   "source": [
    "#定义超参数\n",
    "# input_size: 输入层维度\n",
    "# hidden_size: 隐藏层维度\n",
    "# num_class: 类别\n",
    "input_size = 784\n",
    "hidden_size = 500\n",
    "num_class = 10\n",
    "num_epochs = 10\n",
    "batch_size = 100\n",
    "learning_rate = 0.001"
   ]
  },
  {
   "cell_type": "code",
   "execution_count": 3,
   "metadata": {
    "collapsed": true
   },
   "outputs": [],
   "source": [
    "#下载MNIST 数据集\n",
    "train_dataset = datasets.MNIST(root='./MNIST', train=True, transform=transforms.ToTensor(), download=True)\n",
    "test_dataset = datasets.MNIST(root='./MNIST', train=False, transform=transforms.ToTensor(), download=True)"
   ]
  },
  {
   "cell_type": "code",
   "execution_count": 4,
   "metadata": {
    "collapsed": true
   },
   "outputs": [],
   "source": [
    "#加载数据集\n",
    "train_loader = torch.utils.data.DataLoader(dataset=train_dataset, batch_size=batch_size, shuffle=True)\n",
    "test_loader = torch.utils.data.DataLoader(dataset=test_dataset, batch_size=batch_size, shuffle=False)"
   ]
  },
  {
   "cell_type": "code",
   "execution_count": 5,
   "metadata": {
    "collapsed": true
   },
   "outputs": [],
   "source": [
    "#构建前馈神经网络模型\n",
    "class Net(nn.Module):\n",
    "    def __init__(self, input_size, hidden_size, num_class):\n",
    "        super(Net, self).__init__()\n",
    "        self.relu = nn.ReLU()\n",
    "        self.fc1 = nn.Linear(input_size, hidden_size)\n",
    "        self.fc2 = nn.Linear(hidden_size, num_class)\n",
    "        \n",
    "    def forward(self, x):\n",
    "        out = self.fc1(x)\n",
    "        out = self.relu(out)\n",
    "        out = self.fc2(out)\n",
    "        return out"
   ]
  },
  {
   "cell_type": "code",
   "execution_count": 6,
   "metadata": {},
   "outputs": [
    {
     "data": {
      "text/plain": [
       "Net (\n",
       "  (relu): ReLU ()\n",
       "  (fc1): Linear (784 -> 500)\n",
       "  (fc2): Linear (500 -> 10)\n",
       ")"
      ]
     },
     "execution_count": 6,
     "metadata": {},
     "output_type": "execute_result"
    }
   ],
   "source": [
    "#加载网络模型，并调用GPU加速\n",
    "net = Net(input_size, hidden_size, num_class)\n",
    "net.cuda()"
   ]
  },
  {
   "cell_type": "code",
   "execution_count": 7,
   "metadata": {
    "collapsed": true
   },
   "outputs": [],
   "source": [
    "#定义损失函数\n",
    "criterion = nn.CrossEntropyLoss()\n",
    "#定义优化器\n",
    "optimizer = torch.optim.Adam(net.parameters(), lr=learning_rate)"
   ]
  },
  {
   "cell_type": "code",
   "execution_count": 8,
   "metadata": {},
   "outputs": [
    {
     "name": "stdout",
     "output_type": "stream",
     "text": [
      "Epoch [1/10], Step [100/600], Loss: 0.2927\n",
      "Epoch [1/10], Step [200/600], Loss: 0.2754\n",
      "Epoch [1/10], Step [300/600], Loss: 0.1957\n",
      "Epoch [1/10], Step [400/600], Loss: 0.1892\n",
      "Epoch [1/10], Step [500/600], Loss: 0.1402\n",
      "Epoch [1/10], Step [600/600], Loss: 0.1370\n",
      "Epoch [2/10], Step [100/600], Loss: 0.0878\n",
      "Epoch [2/10], Step [200/600], Loss: 0.0619\n",
      "Epoch [2/10], Step [300/600], Loss: 0.1621\n",
      "Epoch [2/10], Step [400/600], Loss: 0.1861\n",
      "Epoch [2/10], Step [500/600], Loss: 0.0505\n",
      "Epoch [2/10], Step [600/600], Loss: 0.0813\n",
      "Epoch [3/10], Step [100/600], Loss: 0.0745\n",
      "Epoch [3/10], Step [200/600], Loss: 0.0850\n",
      "Epoch [3/10], Step [300/600], Loss: 0.1668\n",
      "Epoch [3/10], Step [400/600], Loss: 0.0945\n",
      "Epoch [3/10], Step [500/600], Loss: 0.0370\n",
      "Epoch [3/10], Step [600/600], Loss: 0.0385\n",
      "Epoch [4/10], Step [100/600], Loss: 0.0553\n",
      "Epoch [4/10], Step [200/600], Loss: 0.0816\n",
      "Epoch [4/10], Step [300/600], Loss: 0.0714\n",
      "Epoch [4/10], Step [400/600], Loss: 0.0416\n",
      "Epoch [4/10], Step [500/600], Loss: 0.0474\n",
      "Epoch [4/10], Step [600/600], Loss: 0.0166\n",
      "Epoch [5/10], Step [100/600], Loss: 0.0523\n",
      "Epoch [5/10], Step [200/600], Loss: 0.0708\n",
      "Epoch [5/10], Step [300/600], Loss: 0.0290\n",
      "Epoch [5/10], Step [400/600], Loss: 0.0144\n",
      "Epoch [5/10], Step [500/600], Loss: 0.0143\n",
      "Epoch [5/10], Step [600/600], Loss: 0.0117\n",
      "Epoch [6/10], Step [100/600], Loss: 0.0298\n",
      "Epoch [6/10], Step [200/600], Loss: 0.0114\n",
      "Epoch [6/10], Step [300/600], Loss: 0.0358\n",
      "Epoch [6/10], Step [400/600], Loss: 0.0299\n",
      "Epoch [6/10], Step [500/600], Loss: 0.0365\n",
      "Epoch [6/10], Step [600/600], Loss: 0.0093\n",
      "Epoch [7/10], Step [100/600], Loss: 0.0156\n",
      "Epoch [7/10], Step [200/600], Loss: 0.0195\n",
      "Epoch [7/10], Step [300/600], Loss: 0.0119\n",
      "Epoch [7/10], Step [400/600], Loss: 0.0151\n",
      "Epoch [7/10], Step [500/600], Loss: 0.0161\n",
      "Epoch [7/10], Step [600/600], Loss: 0.0301\n",
      "Epoch [8/10], Step [100/600], Loss: 0.0358\n",
      "Epoch [8/10], Step [200/600], Loss: 0.0086\n",
      "Epoch [8/10], Step [300/600], Loss: 0.0150\n",
      "Epoch [8/10], Step [400/600], Loss: 0.0228\n",
      "Epoch [8/10], Step [500/600], Loss: 0.0119\n",
      "Epoch [8/10], Step [600/600], Loss: 0.0019\n",
      "Epoch [9/10], Step [100/600], Loss: 0.0296\n",
      "Epoch [9/10], Step [200/600], Loss: 0.0050\n",
      "Epoch [9/10], Step [300/600], Loss: 0.0053\n",
      "Epoch [9/10], Step [400/600], Loss: 0.0114\n",
      "Epoch [9/10], Step [500/600], Loss: 0.0266\n",
      "Epoch [9/10], Step [600/600], Loss: 0.0159\n",
      "Epoch [10/10], Step [100/600], Loss: 0.0072\n",
      "Epoch [10/10], Step [200/600], Loss: 0.0034\n",
      "Epoch [10/10], Step [300/600], Loss: 0.0217\n",
      "Epoch [10/10], Step [400/600], Loss: 0.0132\n",
      "Epoch [10/10], Step [500/600], Loss: 0.0094\n",
      "Epoch [10/10], Step [600/600], Loss: 0.0041\n"
     ]
    }
   ],
   "source": [
    "#开始训练网络\n",
    "#.cuda() 代表调用GPU加速\n",
    "for epoch in range(num_epochs):\n",
    "    for i, (images, labels) in enumerate(train_loader):\n",
    "        images = Variable(images.view(-1, 28*28)).cuda()\n",
    "        labels = Variable(labels).cuda()\n",
    "        \n",
    "        #调用模型进行前向传播\n",
    "        outputs = net(images)\n",
    "        \n",
    "        #调用损失函数，计算输出值和真实值之间的差\n",
    "        loss = criterion(outputs, labels)\n",
    "        \n",
    "        #启用优化器并将梯度缓存清空，再进行反向传播\n",
    "        optimizer.zero_grad()\n",
    "        loss.backward()\n",
    "    \n",
    "        #调用优化函数开始迭代优化\n",
    "        optimizer.step()\n",
    "        \n",
    "        if (i+1) % 100 == 0:\n",
    "            print ('Epoch [%d/%d], Step [%d/%d], Loss: %.4f' %(epoch+1, num_epochs, i+1, len(train_dataset)//batch_size, loss.data[0]))"
   ]
  },
  {
   "cell_type": "code",
   "execution_count": 9,
   "metadata": {},
   "outputs": [
    {
     "name": "stdout",
     "output_type": "stream",
     "text": [
      "Accuracy of the network on the 10000 test images: 98 %\n"
     ]
    }
   ],
   "source": [
    "#测试网络性能\n",
    "correct = 0\n",
    "total = 0\n",
    "for images, labels in test_loader:\n",
    "    images = Variable(images.view(-1, 28*28)).cuda()\n",
    "    outputs = net(images)\n",
    "    #torch.max(x, n) 沿着n维进行某种操作,即取10类概率最大的结果作为最后的输出\n",
    "    _, predicted = torch.max(outputs.data, 1)\n",
    "    total += labels.size(0)\n",
    "    correct += (predicted == labels.cuda()).sum()\n",
    "    \n",
    "print('Accuracy of the network on the 10000 test images: %d %%' % (100 * correct / total))"
   ]
  },
  {
   "cell_type": "code",
   "execution_count": 10,
   "metadata": {
    "collapsed": true
   },
   "outputs": [],
   "source": [
    "#保存网络模型及参数\n",
    "torch.save(net.state_dict(), 'Net.pkl')"
   ]
  }
 ],
 "metadata": {
  "kernelspec": {
   "display_name": "Python [default]",
   "language": "python",
   "name": "python3"
  },
  "language_info": {
   "codemirror_mode": {
    "name": "ipython",
    "version": 3
   },
   "file_extension": ".py",
   "mimetype": "text/x-python",
   "name": "python",
   "nbconvert_exporter": "python",
   "pygments_lexer": "ipython3",
   "version": "3.5.3"
  }
 },
 "nbformat": 4,
 "nbformat_minor": 2
}
